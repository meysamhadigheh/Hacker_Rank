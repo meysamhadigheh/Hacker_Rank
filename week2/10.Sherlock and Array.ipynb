{
 "cells": [
  {
   "cell_type": "code",
   "execution_count": null,
   "metadata": {
    "collapsed": true
   },
   "outputs": [],
   "source": [
    "\n",
    "#!/bin/python3\n",
    "\n",
    "import math\n",
    "import os\n",
    "import random\n",
    "import re\n",
    "import sys"
   ]
  },
  {
   "cell_type": "code",
   "execution_count": null,
   "outputs": [],
   "source": [
    "#\n",
    "# Complete the 'balancedSums' function below.\n",
    "#\n",
    "# The function is expected to return a STRING.\n",
    "# The function accepts INTEGER_ARRAY arr as parameter.\n",
    "#\n",
    "\n",
    "def balancedSums(arr):\n",
    "    # Write your code here\n",
    "    # arr.insert(0,0)\n",
    "    # arr.insert(len(arr),0)\n",
    "    # middle_index=math.floor(len(arr)/2)-1\n",
    "\n",
    "    # step=0\n",
    "    # stop_index=0\n",
    "    # if sum(arr[0:middle_index])==sum(arr[middle_index+1:]):\n",
    "    #     return 'YES'\n",
    "    # elif sum(arr[0:middle_index])>sum(arr[middle_index+1:]):\n",
    "    #     step=-1\n",
    "    #     stop_index=0\n",
    "    # else:\n",
    "    #     step=1\n",
    "    #     stop_index=len(arr)-1\n",
    "\n",
    "    # for index in range(middle_index,stop_index,step):\n",
    "\n",
    "    #     if sum(arr[0:index])==sum(arr[index+1:]):\n",
    "    #         return \"YES\"\n",
    "    #     if step==-1:\n",
    "    #         if sum(arr[0:index])<sum(arr[index+1:]):\n",
    "    #             print ('oh')\n",
    "    #             return \"NO\"\n",
    "    #     if step==1:\n",
    "    #         if sum(arr[0:index])>sum(arr[index+1:]):\n",
    "    #             print('oh')\n",
    "    #             return \"NO\"\n",
    "\n",
    "\n",
    "\n",
    "    # return 'NO'\n",
    "    sum_arr = sum(arr)\n",
    "    add = 0\n",
    "    for item in arr:\n",
    "        if add == sum_arr-item-add:\n",
    "            return \"YES\"\n",
    "        add+=item\n",
    "    return \"NO\"\n"
   ],
   "metadata": {
    "collapsed": false,
    "pycharm": {
     "name": "#%%\n"
    }
   }
  },
  {
   "cell_type": "code",
   "execution_count": null,
   "outputs": [],
   "source": [
    "if __name__ == '__main__':\n",
    "    fptr = open(os.environ['OUTPUT_PATH'], 'w')\n",
    "\n",
    "    T = int(input().strip())\n",
    "\n",
    "    for T_itr in range(T):\n",
    "        n = int(input().strip())\n",
    "\n",
    "        arr = list(map(int, input().rstrip().split()))\n",
    "\n",
    "        result = balancedSums(arr)\n",
    "\n",
    "        fptr.write(result + '\\n')\n",
    "\n",
    "    fptr.close()"
   ],
   "metadata": {
    "collapsed": false,
    "pycharm": {
     "name": "#%%\n"
    }
   }
  }
 ],
 "metadata": {
  "kernelspec": {
   "display_name": "Python 3",
   "language": "python",
   "name": "python3"
  },
  "language_info": {
   "codemirror_mode": {
    "name": "ipython",
    "version": 2
   },
   "file_extension": ".py",
   "mimetype": "text/x-python",
   "name": "python",
   "nbconvert_exporter": "python",
   "pygments_lexer": "ipython2",
   "version": "2.7.6"
  }
 },
 "nbformat": 4,
 "nbformat_minor": 0
}