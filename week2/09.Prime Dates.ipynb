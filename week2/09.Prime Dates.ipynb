{
 "cells": [
  {
   "cell_type": "code",
   "execution_count": null,
   "metadata": {
    "collapsed": true
   },
   "outputs": [],
   "source": [
    "import re"
   ]
  },
  {
   "cell_type": "code",
   "execution_count": null,
   "outputs": [],
   "source": [
    "month = []\n",
    "\n",
    "def updateLeapYear(year):\n",
    "    if year % 400 == 0:\n",
    "        month[2] = 29\n",
    "    elif year % 100 == 0:\n",
    "        month[2] = 28\n",
    "    elif year % 4 == 0:\n",
    "        month[2] = 29\n",
    "    else:\n",
    "        month[2] = 28"
   ],
   "metadata": {
    "collapsed": false,
    "pycharm": {
     "name": "#%%\n"
    }
   }
  },
  {
   "cell_type": "code",
   "execution_count": null,
   "outputs": [],
   "source": [
    "def storeMonth():\n",
    "    month[1] = 31\n",
    "    month[2] = 28\n",
    "    month[3] = 31\n",
    "    month[4] = 30\n",
    "    month[5] = 31\n",
    "    month[6] = 30\n",
    "    month[7] = 31\n",
    "    month[8] = 31\n",
    "    month[9] = 30\n",
    "    month[10] = 31\n",
    "    month[11] = 30\n",
    "    month[12] = 31"
   ],
   "metadata": {
    "collapsed": false,
    "pycharm": {
     "name": "#%%\n"
    }
   }
  },
  {
   "cell_type": "code",
   "execution_count": null,
   "outputs": [],
   "source": [
    "def findPrimeDates(d1, m1, y1, d2, m2, y2):\n",
    "    storeMonth()\n",
    "    result = 0\n",
    "\n",
    "    while(True):\n",
    "        x = d1\n",
    "        x = x * 100 + m1\n",
    "        x = x * 10000 + y1\n",
    "        if x % 4 == 0 or x % 7 == 0:\n",
    "            result = result + 1\n",
    "        if d1 == d2 and m1 == m2 and y1 == y2:\n",
    "            break\n",
    "        updateLeapYear(y1)\n",
    "        d1 = d1 + 1\n",
    "        if d1 > month[m1]:\n",
    "            m1 = m1 + 1\n",
    "            d1 = 1\n",
    "            if m1 > 12:\n",
    "                y1 =  y1 + 1\n",
    "                m1 = 1\n",
    "    return result;"
   ],
   "metadata": {
    "collapsed": false,
    "pycharm": {
     "name": "#%%\n"
    }
   }
  },
  {
   "cell_type": "code",
   "execution_count": null,
   "outputs": [],
   "source": [
    "for i in range(1, 15):\n",
    "    month.append(31)\n",
    "\n",
    "line = input()\n",
    "date = re.split('-| ', line)\n",
    "d1 = int(date[0])\n",
    "m1 = int(date[1])\n",
    "y1 = int(date[2])\n",
    "d2 = int(date[3])\n",
    "m2 = int(date[4])\n",
    "y2 = int(date[5])\n",
    "\n",
    "result = findPrimeDates(d1, m1, y1, d2, m2, y2)\n",
    "print(result)\n",
    "\n",
    "\n",
    "\n"
   ],
   "metadata": {
    "collapsed": false,
    "pycharm": {
     "name": "#%%\n"
    }
   }
  }
 ],
 "metadata": {
  "kernelspec": {
   "display_name": "Python 3",
   "language": "python",
   "name": "python3"
  },
  "language_info": {
   "codemirror_mode": {
    "name": "ipython",
    "version": 2
   },
   "file_extension": ".py",
   "mimetype": "text/x-python",
   "name": "python",
   "nbconvert_exporter": "python",
   "pygments_lexer": "ipython2",
   "version": "2.7.6"
  }
 },
 "nbformat": 4,
 "nbformat_minor": 0
}