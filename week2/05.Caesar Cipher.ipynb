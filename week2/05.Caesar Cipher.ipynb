{
 "cells": [
  {
   "cell_type": "code",
   "execution_count": null,
   "metadata": {
    "collapsed": true
   },
   "outputs": [],
   "source": [
    "#!/bin/python3\n",
    "\n",
    "import math\n",
    "import os\n",
    "import random\n",
    "import re\n",
    "import sys\n",
    "import string"
   ]
  },
  {
   "cell_type": "code",
   "execution_count": null,
   "outputs": [],
   "source": [
    "# Complete the 'caesarCipher' function below.\n",
    "#\n",
    "# The function is expected to return a STRING.\n",
    "# The function accepts following parameters:\n",
    "#  1. STRING s\n",
    "#  2. INTEGER k\n",
    "#\n",
    "\n",
    "def caesarCipher(s, k):\n",
    "    # Write your code here\n",
    "\n",
    "    k=k%26\n",
    "    alphabet=string.ascii_lowercase\n",
    "    alphabet_rotate=alphabet[k:]+alphabet[:k]\n",
    "    alphabet_rotate=list(alphabet_rotate)\n",
    "    alphabet= list(alphabet)\n",
    "\n",
    "    dictionary = dict(zip(alphabet, alphabet_rotate))\n",
    "    print(dictionary)\n",
    "    string_output=\"\"\n",
    "    for i in s:\n",
    "        if (str(i).isalpha()):\n",
    "\n",
    "            if i.isupper():\n",
    "                string_output +=dictionary.get(i.lower()).upper()\n",
    "            else:\n",
    "                string_output +=dictionary.get(i)\n",
    "        else:\n",
    "\n",
    "            string_output +=i\n",
    "\n",
    "\n",
    "\n",
    "    return string_output"
   ],
   "metadata": {
    "collapsed": false,
    "pycharm": {
     "name": "#%%\n"
    }
   }
  },
  {
   "cell_type": "code",
   "execution_count": null,
   "outputs": [],
   "source": [
    "if __name__ == '__main__':\n",
    "    fptr = open(os.environ['OUTPUT_PATH'], 'w')\n",
    "\n",
    "    n = int(input().strip())\n",
    "\n",
    "    s = input()\n",
    "\n",
    "    k = int(input().strip())\n",
    "\n",
    "    result = caesarCipher(s, k)\n",
    "\n",
    "    fptr.write(result + '\\n')\n",
    "\n",
    "    fptr.close()\n"
   ],
   "metadata": {
    "collapsed": false,
    "pycharm": {
     "name": "#%%\n"
    }
   }
  }
 ],
 "metadata": {
  "kernelspec": {
   "display_name": "Python 3",
   "language": "python",
   "name": "python3"
  },
  "language_info": {
   "codemirror_mode": {
    "name": "ipython",
    "version": 2
   },
   "file_extension": ".py",
   "mimetype": "text/x-python",
   "name": "python",
   "nbconvert_exporter": "python",
   "pygments_lexer": "ipython2",
   "version": "2.7.6"
  }
 },
 "nbformat": 4,
 "nbformat_minor": 0
}