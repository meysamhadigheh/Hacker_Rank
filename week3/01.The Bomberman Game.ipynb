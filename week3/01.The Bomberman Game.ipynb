{
 "cells": [
  {
   "cell_type": "code",
   "execution_count": null,
   "metadata": {
    "collapsed": true
   },
   "outputs": [],
   "source": [
    "#!/bin/python3\n",
    "\n",
    "import math\n",
    "import os\n",
    "import random\n",
    "import re\n",
    "import sys"
   ]
  },
  {
   "cell_type": "code",
   "execution_count": null,
   "outputs": [],
   "source": [
    "# Complete the 'bomberMan' function below.\n",
    "#\n",
    "# The function is expected to return a STRING_ARRAY.\n",
    "# The function accepts following parameters:\n",
    "#  1. INTEGER n\n",
    "#  2. STRING_ARRAY grid\n",
    "#"
   ],
   "metadata": {
    "collapsed": false,
    "pycharm": {
     "name": "#%%\n"
    }
   }
  },
  {
   "cell_type": "code",
   "execution_count": null,
   "outputs": [],
   "source": [
    "def replace_str_index(text,index=0,replacement=''):\n",
    "    return '%s%s%s'%(text[:index],replacement,text[index+1:])\n",
    "\n",
    "def explode(arr): # simulate an explosion\n",
    "        newGrid = []\n",
    "        for i in range(len(arr)):\n",
    "            row = ''\n",
    "            for j in range(len(arr[0])):\n",
    "                center = arr[i][j] == 'O'\n",
    "                up = i > 0 and arr[i-1][j] == 'O'\n",
    "                down =  i < (len(arr) - 1) and arr[i+1][j] == 'O'\n",
    "                left = j > 0 and arr[i][j-1] == 'O'\n",
    "                right = j < len(arr[0]) - 1 and arr[i][j+1] == 'O'\n",
    "\n",
    "                row += '.' if center or up or down or left or right else 'O'\n",
    "            newGrid.append(row)\n",
    "\n",
    "        return newGrid"
   ],
   "metadata": {
    "collapsed": false,
    "pycharm": {
     "name": "#%%\n"
    }
   }
  },
  {
   "cell_type": "code",
   "execution_count": null,
   "outputs": [],
   "source": [
    "def bomberMan(n, grid):\n",
    "    # Write your code here\n",
    "\n",
    "    rows=len(grid)\n",
    "    columns=len(grid[0])\n",
    "\n",
    "    if n == 1: # return original array if n = 1\n",
    "        return grid\n",
    "    elif n % 2 == 0: # return full array if even (bomberman places down all charges)\n",
    "        return ['O'*columns] * rows\n",
    "    else:\n",
    "        if int(n/2) % 2 == 1: # n = 3, 7, 11...\n",
    "            return explode(grid)\n",
    "        else: # n = 5, 9, 13\n",
    "            return explode(explode(grid))"
   ],
   "metadata": {
    "collapsed": false,
    "pycharm": {
     "name": "#%%\n"
    }
   }
  },
  {
   "cell_type": "code",
   "execution_count": null,
   "outputs": [],
   "source": [
    "if __name__ == '__main__':\n",
    "    fptr = open(os.environ['OUTPUT_PATH'], 'w')\n",
    "\n",
    "    first_multiple_input = input().rstrip().split()\n",
    "\n",
    "    r = int(first_multiple_input[0])\n",
    "\n",
    "    c = int(first_multiple_input[1])\n",
    "\n",
    "    n = int(first_multiple_input[2])\n",
    "\n",
    "    grid = []\n",
    "\n",
    "    for _ in range(r):\n",
    "        grid_item = input()\n",
    "        grid.append(grid_item)\n",
    "\n",
    "    result = bomberMan(n, grid)\n",
    "\n",
    "    fptr.write('\\n'.join(result))\n",
    "    fptr.write('\\n')\n",
    "\n",
    "    fptr.close()\n"
   ],
   "metadata": {
    "collapsed": false,
    "pycharm": {
     "name": "#%%\n"
    }
   }
  }
 ],
 "metadata": {
  "kernelspec": {
   "display_name": "Python 3",
   "language": "python",
   "name": "python3"
  },
  "language_info": {
   "codemirror_mode": {
    "name": "ipython",
    "version": 2
   },
   "file_extension": ".py",
   "mimetype": "text/x-python",
   "name": "python",
   "nbconvert_exporter": "python",
   "pygments_lexer": "ipython2",
   "version": "2.7.6"
  }
 },
 "nbformat": 4,
 "nbformat_minor": 0
}