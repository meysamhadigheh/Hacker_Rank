{
 "cells": [
  {
   "cell_type": "code",
   "execution_count": 1,
   "metadata": {
    "collapsed": true
   },
   "outputs": [],
   "source": [
    "#!/bin/python3\n",
    "\n",
    "import math\n",
    "import os\n",
    "import random\n",
    "import re\n",
    "import sys"
   ]
  },
  {
   "cell_type": "code",
   "execution_count": 35,
   "outputs": [],
   "source": [
    "#\n",
    "# Complete the 'isValid' function below.\n",
    "#\n",
    "# The function is expected to return a STRING.\n",
    "# The function accepts STRING s as parameter.\n",
    "#\n",
    "\n",
    "def isValid(s):\n",
    "    # Write your code here\n",
    "\n",
    "    bag_of_chr={}\n",
    "\n",
    "    # for create a dictionary that hold number of frequency of each character\n",
    "    for i in s:\n",
    "        if i in bag_of_chr:\n",
    "            bag_of_chr[i] += 1\n",
    "        else:\n",
    "            bag_of_chr[i]=1\n",
    "\n",
    "    # list all values for creating TF( frequency of numbers )\n",
    "    list_values=list(bag_of_chr.values())\n",
    "    tf={}\n",
    "    for i in list_values:\n",
    "        if i not in tf:\n",
    "            tf[i]=list_values.count(i)\n",
    "    # make list of all values\n",
    "    tf_values=list(tf.values())\n",
    "\n",
    "    # if length is 1 it means that all character repeat same times\n",
    "    if len(tf_values)==1:\n",
    "        return 'YES'\n",
    "    # if length is more than 2 it means we have more than three\n",
    "    # character that repeat not same time\n",
    "    elif len(tf_values)>2:\n",
    "        return 'NO'\n",
    "    # this situation means that we have only 2 different\n",
    "    else:\n",
    "\n",
    "        tf_values.sort()\n",
    "        # if first one is 1 it means only one character difference we hav\n",
    "        if int(tf_values[0])==1:\n",
    "            a = list(tf.keys())[list(tf.values()).index(tf_values[0])]\n",
    "            b = list(tf.keys())[list(tf.values()).index(tf_values[1])]\n",
    "            # it we remove one character\n",
    "            if a-b==1:\n",
    "                return 'YES'\n",
    "\n",
    "            elif a==1:\n",
    "                return 'YES'\n",
    "            else:\n",
    "                return 'NO'\n",
    "        else:\n",
    "            return 'NO'\n",
    "\n",
    "\n"
   ],
   "metadata": {
    "collapsed": false,
    "pycharm": {
     "name": "#%%\n"
    }
   }
  },
  {
   "cell_type": "code",
   "execution_count": 36,
   "outputs": [
    {
     "name": "stdout",
     "output_type": "stream",
     "text": [
      "CPU times: user 40 µs, sys: 1e+03 ns, total: 41 µs\n",
      "Wall time: 44.1 µs\n"
     ]
    },
    {
     "data": {
      "text/plain": "'YES'"
     },
     "execution_count": 36,
     "metadata": {},
     "output_type": "execute_result"
    }
   ],
   "source": [
    "%%time\n",
    "s='aabbc'\n",
    "# abcdefghhgfedecba YES\n",
    "# aabbcd NO\n",
    "# aabbccddeefghi NO\n",
    "# aabbc YEs\n",
    "isValid(s)"
   ],
   "metadata": {
    "collapsed": false,
    "pycharm": {
     "name": "#%%\n"
    }
   }
  }
 ],
 "metadata": {
  "kernelspec": {
   "display_name": "Python 3",
   "language": "python",
   "name": "python3"
  },
  "language_info": {
   "codemirror_mode": {
    "name": "ipython",
    "version": 2
   },
   "file_extension": ".py",
   "mimetype": "text/x-python",
   "name": "python",
   "nbconvert_exporter": "python",
   "pygments_lexer": "ipython2",
   "version": "2.7.6"
  }
 },
 "nbformat": 4,
 "nbformat_minor": 0
}