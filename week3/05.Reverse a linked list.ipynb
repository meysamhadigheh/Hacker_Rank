{
 "cells": [
  {
   "cell_type": "code",
   "execution_count": null,
   "metadata": {
    "collapsed": true
   },
   "outputs": [],
   "source": [
    "#!/bin/python3\n",
    "\n",
    "import math\n",
    "import os\n",
    "import random\n",
    "import re\n",
    "import sys\n",
    "\n",
    "class SinglyLinkedListNode:\n",
    "    def __init__(self, node_data):\n",
    "        self.data = node_data\n",
    "        self.next = None\n",
    "\n",
    "class SinglyLinkedList:\n",
    "    def __init__(self):\n",
    "        self.head = None\n",
    "        self.tail = None\n",
    "\n",
    "    def insert_node(self, node_data):\n",
    "        node = SinglyLinkedListNode(node_data)\n",
    "\n",
    "        if not self.head:\n",
    "            self.head = node\n",
    "        else:\n",
    "            self.tail.next = node\n",
    "\n",
    "\n",
    "        self.tail = node\n",
    "\n",
    "def print_singly_linked_list(node, sep, fptr):\n",
    "    while node:\n",
    "        fptr.write(str(node.data))\n",
    "\n",
    "        node = node.next\n",
    "\n",
    "        if node:\n",
    "            fptr.write(sep)"
   ]
  },
  {
   "cell_type": "code",
   "execution_count": null,
   "outputs": [],
   "source": [
    "#\n",
    "# Complete the 'reverse' function below.\n",
    "#\n",
    "# The function is expected to return an INTEGER_SINGLY_LINKED_LIST.\n",
    "# The function accepts INTEGER_SINGLY_LINKED_LIST llist as parameter.\n",
    "#\n",
    "\n",
    "#\n",
    "# For your reference:\n",
    "#\n",
    "# SinglyLinkedListNode:\n",
    "#     int data\n",
    "#     SinglyLinkedListNode next\n",
    "#\n",
    "#\n",
    "\n",
    "def reverse(llist):\n",
    "    # Write your code here"
   ],
   "metadata": {
    "collapsed": false,
    "pycharm": {
     "name": "#%%\n"
    }
   }
  },
  {
   "cell_type": "code",
   "execution_count": null,
   "outputs": [],
   "source": [
    "if __name__ == '__main__':\n",
    "    fptr = open(os.environ['OUTPUT_PATH'], 'w')\n",
    "\n",
    "    tests = int(input())\n",
    "\n",
    "    for tests_itr in range(tests):\n",
    "        llist_count = int(input())\n",
    "\n",
    "        llist = SinglyLinkedList()\n",
    "\n",
    "        for _ in range(llist_count):\n",
    "            llist_item = int(input())\n",
    "            llist.insert_node(llist_item)\n",
    "\n",
    "        llist1 = reverse(llist.head)\n",
    "\n",
    "        print_singly_linked_list(llist1, ' ', fptr)\n",
    "        fptr.write('\\n')\n",
    "\n",
    "    fptr.close()"
   ],
   "metadata": {
    "collapsed": false,
    "pycharm": {
     "name": "#%%\n"
    }
   }
  }
 ],
 "metadata": {
  "kernelspec": {
   "display_name": "Python 3",
   "language": "python",
   "name": "python3"
  },
  "language_info": {
   "codemirror_mode": {
    "name": "ipython",
    "version": 2
   },
   "file_extension": ".py",
   "mimetype": "text/x-python",
   "name": "python",
   "nbconvert_exporter": "python",
   "pygments_lexer": "ipython2",
   "version": "2.7.6"
  }
 },
 "nbformat": 4,
 "nbformat_minor": 0
}