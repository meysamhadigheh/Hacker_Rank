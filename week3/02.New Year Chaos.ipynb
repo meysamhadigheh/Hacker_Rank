{
 "cells": [
  {
   "cell_type": "code",
   "execution_count": 1,
   "metadata": {
    "collapsed": true
   },
   "outputs": [],
   "source": [
    "#!/bin/python3\n",
    "\n",
    "import math\n",
    "import os\n",
    "import random\n",
    "import re\n",
    "import sys"
   ]
  },
  {
   "cell_type": "code",
   "execution_count": 13,
   "outputs": [],
   "source": [
    "#\n",
    "# Complete the 'minimumBribes' function below.\n",
    "#\n",
    "# The function accepts INTEGER_ARRAY q as parameter.\n",
    "#\n",
    "\n",
    "def minimumBribes(q):\n",
    "    # Write your code here\n",
    "    bribes=0\n",
    "    for i in range(0,len(q)-1):\n",
    "        check_bribe=q[i]-q[i+1]\n",
    "        if check_bribe>2:\n",
    "            return 'Too chaotic'\n",
    "        elif check_bribe>0:\n",
    "            bribes += check_bribe\n",
    "\n",
    "    return bribes\n",
    "\n"
   ],
   "metadata": {
    "collapsed": false,
    "pycharm": {
     "name": "#%%\n"
    }
   }
  },
  {
   "cell_type": "code",
   "execution_count": 15,
   "outputs": [
    {
     "name": "stdout",
     "output_type": "stream",
     "text": [
      "Too chaotic\n"
     ]
    }
   ],
   "source": [
    "# q = [2, 1, 5, 3, 4]\n",
    "q=[2, 5, 1, 3, 4]\n",
    "\n",
    "print(minimumBribes(q))"
   ],
   "metadata": {
    "collapsed": false,
    "pycharm": {
     "name": "#%%\n"
    }
   }
  }
 ],
 "metadata": {
  "kernelspec": {
   "display_name": "Python 3",
   "language": "python",
   "name": "python3"
  },
  "language_info": {
   "codemirror_mode": {
    "name": "ipython",
    "version": 2
   },
   "file_extension": ".py",
   "mimetype": "text/x-python",
   "name": "python",
   "nbconvert_exporter": "python",
   "pygments_lexer": "ipython2",
   "version": "2.7.6"
  }
 },
 "nbformat": 4,
 "nbformat_minor": 0
}