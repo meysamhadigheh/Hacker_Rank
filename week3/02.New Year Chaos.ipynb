{
 "cells": [
  {
   "cell_type": "code",
   "execution_count": 1,
   "metadata": {
    "collapsed": true
   },
   "outputs": [],
   "source": [
    "# very clever solution by Yu Min Ooi\n",
    "# start from last item and check how many step it change\n",
    "# if it is more than 2 we will print Too chaotic if it is\n",
    "# less than 3 we just remove it from list then we will\n",
    "# check the next one until there isn't any item on the list\n",
    "#!/bin/python3\n",
    "\n",
    "import math\n",
    "import os\n",
    "import random\n",
    "import re\n",
    "import sys"
   ]
  },
  {
   "cell_type": "code",
   "execution_count": 22,
   "outputs": [],
   "source": [
    "#\n",
    "# Complete the 'minimumBribes' function below.\n",
    "#\n",
    "# The function accepts INTEGER_ARRAY q as parameter.\n",
    "#\n",
    "\n",
    "def minimumBribes(q):\n",
    "    # Write your code here\n",
    "\n",
    "    c = 0\n",
    "    total = 0\n",
    "\n",
    "    for i in range(len(q),0,-1):\n",
    "        for j in range(len(q)-1,-1,-1):\n",
    "            #print('i:',i  , 'q[j]:', q[j])\n",
    "            if q[j] != i:\n",
    "                c += 1\n",
    "                if c > 2:\n",
    "                    print(\"Too chaotic\")\n",
    "                    return\n",
    "            else:\n",
    "                total += c\n",
    "                c = 0\n",
    "                q.pop(j)\n",
    "                #print(q)\n",
    "                break\n",
    "    print(total)\n",
    "\n"
   ],
   "metadata": {
    "collapsed": false,
    "pycharm": {
     "name": "#%%\n"
    }
   }
  },
  {
   "cell_type": "code",
   "execution_count": 23,
   "outputs": [
    {
     "name": "stdout",
     "output_type": "stream",
     "text": [
      "7\n",
      "None\n"
     ]
    }
   ],
   "source": [
    "# q = [2, 1, 5, 3, 4]\n",
    "q=[1 ,2 ,5 ,3 ,7 ,8 ,6 ,4]\n",
    "\n",
    "print(minimumBribes(q))"
   ],
   "metadata": {
    "collapsed": false,
    "pycharm": {
     "name": "#%%\n"
    }
   }
  }
 ],
 "metadata": {
  "kernelspec": {
   "display_name": "Python 3",
   "language": "python",
   "name": "python3"
  },
  "language_info": {
   "codemirror_mode": {
    "name": "ipython",
    "version": 2
   },
   "file_extension": ".py",
   "mimetype": "text/x-python",
   "name": "python",
   "nbconvert_exporter": "python",
   "pygments_lexer": "ipython2",
   "version": "2.7.6"
  }
 },
 "nbformat": 4,
 "nbformat_minor": 0
}