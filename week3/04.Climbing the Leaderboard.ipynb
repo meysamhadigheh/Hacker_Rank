{
 "cells": [
  {
   "cell_type": "code",
   "execution_count": 3,
   "metadata": {},
   "outputs": [],
   "source": [
    "#!/bin/python3\n",
    "\n",
    "import math\n",
    "import os\n",
    "import random\n",
    "import re\n",
    "import sys"
   ]
  },
  {
   "cell_type": "code",
   "execution_count": 53,
   "metadata": {
    "pycharm": {
     "name": "#%%\n"
    }
   },
   "outputs": [],
   "source": [
    "#\n",
    "# Complete the 'climbingLeaderboard' function below.\n",
    "#\n",
    "# The function is expected to return an INTEGER_ARRAY.\n",
    "# The function accepts following parameters:\n",
    "#  1. INTEGER_ARRAY ranked\n",
    "#  2. INTEGER_ARRAY player\n",
    "#\n",
    "\n",
    "\n",
    "\n",
    "# def climbingLeaderboard(ranked, player):\n",
    "#     # Write your code here\n",
    "#     new_rank=[]\n",
    "#     ranked=sorted(list(dict.fromkeys(ranked)), reverse=True) \n",
    "#     for rank in player:\n",
    "#         temp_ranked=[]\n",
    "#         temp_ranked=ranked\n",
    "#         temp_ranked.append(rank)\n",
    "#         sorted_temp_rank = sorted(list(dict.fromkeys(temp_ranked)), reverse=True)        \n",
    "#         new_rank.append(sorted_temp_rank.index(rank)+1)\n",
    "#     return new_rank\n",
    "\n",
    "def climbingLeaderboard(ranked, player):\n",
    "#     # Write your code here\n",
    "    ranked = sorted(list(set(ranked)),reverse = True)\n",
    "    player.sort(reverse = True)\n",
    "    j = 0\n",
    "    l = len(ranked)\n",
    "    result = []\n",
    "    for i in range(len(player)):\n",
    "        while j<l and player[i]<ranked[j]:\n",
    "            j+=1\n",
    "        result.append(j+1)\n",
    "    return result[::-1]\n",
    "\n",
    "\n"
   ]
  },
  {
   "cell_type": "code",
   "execution_count": 54,
   "metadata": {
    "pycharm": {
     "name": "#%%\n"
    }
   },
   "outputs": [
    {
     "name": "stdout",
     "output_type": "stream",
     "text": [
      "CPU times: user 24 ms, sys: 20.5 ms, total: 44.4 ms\n",
      "Wall time: 50.2 ms\n"
     ]
    },
    {
     "data": {
      "text/plain": [
       "[6, 4, 2, 1]"
      ]
     },
     "execution_count": 54,
     "metadata": {},
     "output_type": "execute_result"
    }
   ],
   "source": [
    "%%time\n",
    "ranked=[100 ,100, 50, 40 ,40, 20, 10]*200000\n",
    "player=[5 ,25, 50, 120]\n",
    "climbingLeaderboard(ranked,player)\n",
    "# 6\n",
    "# 4\n",
    "# 2\n",
    "# 1"
   ]
  },
  {
   "cell_type": "code",
   "execution_count": null,
   "metadata": {},
   "outputs": [],
   "source": []
  }
 ],
 "metadata": {
  "kernelspec": {
   "display_name": "Python 3",
   "language": "python",
   "name": "python3"
  },
  "language_info": {
   "codemirror_mode": {
    "name": "ipython",
    "version": 3
   },
   "file_extension": ".py",
   "mimetype": "text/x-python",
   "name": "python",
   "nbconvert_exporter": "python",
   "pygments_lexer": "ipython3",
   "version": "3.9.1"
  }
 },
 "nbformat": 4,
 "nbformat_minor": 1
}