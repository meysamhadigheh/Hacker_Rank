{
 "cells": [
  {
   "cell_type": "code",
   "execution_count": 3,
   "metadata": {},
   "outputs": [],
   "source": [
    "#!/bin/python3\n",
    "\n",
    "import math\n",
    "import os\n",
    "import random\n",
    "import re\n",
    "import sys"
   ]
  },
  {
   "cell_type": "code",
   "execution_count": 8,
   "metadata": {
    "pycharm": {
     "name": "#%%\n"
    }
   },
   "outputs": [],
   "source": [
    "#\n",
    "# Complete the 'climbingLeaderboard' function below.\n",
    "#\n",
    "# The function is expected to return an INTEGER_ARRAY.\n",
    "# The function accepts following parameters:\n",
    "#  1. INTEGER_ARRAY ranked\n",
    "#  2. INTEGER_ARRAY player\n",
    "#\n",
    "\n",
    "def climbingLeaderboard(ranked, player):\n",
    "    # Write your code here\n",
    "    new_rank=[]\n",
    "    for rank in player:\n",
    "        temp_ranked=[]\n",
    "        temp_ranked=ranked\n",
    "        print('1',temp_ranked)\n",
    "        temp_ranked.append(rank)\n",
    "        print('2',temp_ranked)\n",
    "        sorted_temp_rank = sorted(list(dict.fromkeys(temp_ranked)), reverse=True)\n",
    "        print('3',sorted_temp_rank)\n",
    "        \n",
    "        new_rank.append(sorted_temp_rank.index(rank)+1)\n",
    "    return new_rank"
   ]
  },
  {
   "cell_type": "code",
   "execution_count": null,
   "outputs": [],
   "source": [
    "ranked=[100 ,100, 50, 40 ,40, 20, 10]\n",
    "player=[5 ,25, 50, 120]\n",
    "climbingLeaderboard(ranked,player)\n",
    "# 6\n",
    "# 4\n",
    "# 2\n",
    "# 1"
   ],
   "metadata": {
    "collapsed": false,
    "pycharm": {
     "name": "#%%\n"
    }
   }
  },
  {
   "cell_type": "code",
   "execution_count": 9,
   "metadata": {
    "pycharm": {
     "name": "#%%\n"
    }
   },
   "outputs": [
    {
     "name": "stdout",
     "output_type": "stream",
     "text": [
      "1 [100, 100, 50, 40, 40, 20, 10]\n",
      "2 [100, 100, 50, 40, 40, 20, 10, 5]\n",
      "3 [100, 50, 40, 20, 10, 5]\n",
      "1 [100, 100, 50, 40, 40, 20, 10, 5]\n",
      "2 [100, 100, 50, 40, 40, 20, 10, 5, 25]\n",
      "3 [100, 50, 40, 25, 20, 10, 5]\n",
      "1 [100, 100, 50, 40, 40, 20, 10, 5, 25]\n",
      "2 [100, 100, 50, 40, 40, 20, 10, 5, 25, 50]\n",
      "3 [100, 50, 40, 25, 20, 10, 5]\n",
      "1 [100, 100, 50, 40, 40, 20, 10, 5, 25, 50]\n",
      "2 [100, 100, 50, 40, 40, 20, 10, 5, 25, 50, 120]\n",
      "3 [120, 100, 50, 40, 25, 20, 10, 5]\n"
     ]
    },
    {
     "data": {
      "text/plain": [
       "[6, 4, 2, 1]"
      ]
     },
     "execution_count": 9,
     "metadata": {},
     "output_type": "execute_result"
    }
   ],
   "source": []
  },
  {
   "cell_type": "code",
   "execution_count": null,
   "metadata": {},
   "outputs": [],
   "source": []
  }
 ],
 "metadata": {
  "kernelspec": {
   "display_name": "Python 3",
   "language": "python",
   "name": "python3"
  },
  "language_info": {
   "codemirror_mode": {
    "name": "ipython",
    "version": 3
   },
   "file_extension": ".py",
   "mimetype": "text/x-python",
   "name": "python",
   "nbconvert_exporter": "python",
   "pygments_lexer": "ipython3",
   "version": "3.9.1"
  }
 },
 "nbformat": 4,
 "nbformat_minor": 1
}