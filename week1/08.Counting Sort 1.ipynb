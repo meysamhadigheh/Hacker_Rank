{
 "cells": [
  {
   "cell_type": "code",
   "execution_count": null,
   "metadata": {
    "collapsed": true
   },
   "outputs": [],
   "source": [
    "#!/bin/python3\n",
    "\n",
    "import math\n",
    "import os\n",
    "import random\n",
    "import re\n",
    "import sys\n"
   ]
  },
  {
   "cell_type": "code",
   "execution_count": null,
   "outputs": [],
   "source": [
    "#\n",
    "# Complete the 'countingSort' function below.\n",
    "#\n",
    "# The function is expected to return an INTEGER_ARRAY.\n",
    "# The function accepts INTEGER_ARRAY arr as parameter.\n",
    "#\n",
    "\n",
    "def countingSort(arr):\n",
    "    # Write your code here\n",
    "    result_count=[]\n",
    "    for i in range(100):\n",
    "        count_num= arr.count(i)\n",
    "        result_count.append(count_num)\n",
    "\n",
    "    print (result_count)\n",
    "    return result_count"
   ],
   "metadata": {
    "collapsed": false,
    "pycharm": {
     "name": "#%%\n"
    }
   }
  },
  {
   "cell_type": "code",
   "execution_count": null,
   "outputs": [],
   "source": [
    "if __name__ == '__main__':\n",
    "    fptr = open(os.environ['OUTPUT_PATH'], 'w')\n",
    "\n",
    "    n = int(input().strip())\n",
    "\n",
    "    arr = list(map(int, input().rstrip().split()))\n",
    "\n",
    "    result = countingSort(arr)\n",
    "\n",
    "    fptr.write(' '.join(map(str, result)))\n",
    "    fptr.write('\\n')\n",
    "\n",
    "    fptr.close()\n"
   ],
   "metadata": {
    "collapsed": false,
    "pycharm": {
     "name": "#%%\n"
    }
   }
  }
 ],
 "metadata": {
  "kernelspec": {
   "display_name": "Python 3",
   "language": "python",
   "name": "python3"
  },
  "language_info": {
   "codemirror_mode": {
    "name": "ipython",
    "version": 2
   },
   "file_extension": ".py",
   "mimetype": "text/x-python",
   "name": "python",
   "nbconvert_exporter": "python",
   "pygments_lexer": "ipython2",
   "version": "2.7.6"
  }
 },
 "nbformat": 4,
 "nbformat_minor": 0
}