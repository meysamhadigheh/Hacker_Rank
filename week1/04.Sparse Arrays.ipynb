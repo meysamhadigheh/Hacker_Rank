{
 "cells": [
  {
   "cell_type": "code",
   "execution_count": null,
   "metadata": {
    "collapsed": true
   },
   "outputs": [],
   "source": [
    "#!/bin/python3\n",
    "\n",
    "import math\n",
    "import os\n",
    "import random\n",
    "import re\n",
    "import sys\n"
   ]
  },
  {
   "cell_type": "code",
   "execution_count": null,
   "outputs": [],
   "source": [
    "#\n",
    "# Complete the 'matchingStrings' function below.\n",
    "#\n",
    "# The function is expected to return an INTEGER_ARRAY.\n",
    "# The function accepts following parameters:\n",
    "#  1. STRING_ARRAY strings\n",
    "#  2. STRING_ARRAY queries\n",
    "#\n",
    "\n",
    "def matchingStrings(strings, queries):\n",
    "    # Write your code here\n",
    "    result = []\n",
    "    for query in queries:\n",
    "        query_count =strings.count(query)\n",
    "        if query_count==0:\n",
    "            result.append(0)\n",
    "        else:\n",
    "            result.append(query_count)\n",
    "    return result"
   ],
   "metadata": {
    "collapsed": false,
    "pycharm": {
     "name": "#%%\n"
    }
   }
  },
  {
   "cell_type": "code",
   "execution_count": null,
   "outputs": [],
   "source": [
    "if __name__ == '__main__':\n",
    "    fptr = open(os.environ['OUTPUT_PATH'], 'w')\n",
    "\n",
    "    strings_count = int(input().strip())\n",
    "\n",
    "    strings = []\n",
    "\n",
    "    for _ in range(strings_count):\n",
    "        strings_item = input()\n",
    "        strings.append(strings_item)\n",
    "\n",
    "    queries_count = int(input().strip())\n",
    "\n",
    "    queries = []\n",
    "\n",
    "    for _ in range(queries_count):\n",
    "        queries_item = input()\n",
    "        queries.append(queries_item)\n",
    "\n",
    "    res = matchingStrings(strings, queries)\n",
    "\n",
    "    fptr.write('\\n'.join(map(str, res)))\n",
    "    fptr.write('\\n')\n",
    "\n",
    "    fptr.close()\n"
   ],
   "metadata": {
    "collapsed": false,
    "pycharm": {
     "name": "#%%\n"
    }
   }
  }
 ],
 "metadata": {
  "kernelspec": {
   "display_name": "Python 3",
   "language": "python",
   "name": "python3"
  },
  "language_info": {
   "codemirror_mode": {
    "name": "ipython",
    "version": 2
   },
   "file_extension": ".py",
   "mimetype": "text/x-python",
   "name": "python",
   "nbconvert_exporter": "python",
   "pygments_lexer": "ipython2",
   "version": "2.7.6"
  }
 },
 "nbformat": 4,
 "nbformat_minor": 0
}