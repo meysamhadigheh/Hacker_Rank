{
 "cells": [
  {
   "cell_type": "code",
   "execution_count": null,
   "metadata": {
    "collapsed": true
   },
   "outputs": [],
   "source": [
    "#!/bin/python3\n",
    "\n",
    "import math\n",
    "import os\n",
    "import random\n",
    "import re\n",
    "import sys\n",
    "\n",
    "from itertools import permutations"
   ]
  },
  {
   "cell_type": "code",
   "execution_count": null,
   "outputs": [],
   "source": [
    "#\n",
    "# Complete the 'twoArrays' function below.\n",
    "#\n",
    "# The function is expected to return a STRING.\n",
    "# The function accepts following parameters:\n",
    "#  1. INTEGER k\n",
    "#  2. INTEGER_ARRAY A\n",
    "#  3. INTEGER_ARRAY B\n",
    "#\n",
    "\n",
    "def twoArrays(k, A, B):\n",
    "    # Write your code here\n",
    "\n",
    "    #old slow solution\n",
    "    # perm_A = permutations(A)\n",
    "    # perm_B = permutations(B)\n",
    "\n",
    "    # n=len(A)\n",
    "    # # Print the obtained permutations\n",
    "    # for i in list(perm_A):\n",
    "    #     for j in list(perm_B):\n",
    "\n",
    "    #         trigger=0 # used to check if all parameters pass equation or not\n",
    "    #         for q in range(n):\n",
    "\n",
    "    #             if i[q]+j[q]<k:\n",
    "    #                 # if one equation does not obey the rules\n",
    "    #                 # there is no need to check other parameters\n",
    "    #                 break\n",
    "    #             else:\n",
    "    #                 trigger=trigger+1\n",
    "    #                 # if all parameters obey the rule it pass our misssion\n",
    "    #                 if trigger==n:\n",
    "    #                     return 'YES'\n",
    "    # return 'NO'\n",
    "\n",
    "    # Create two arrays (one sorted ascending, one sorted descending):\n",
    "    A.sort()\n",
    "    B.sort(reverse=True)\n",
    "    for i in range(len(A)):\n",
    "        if(A[i] + B[i] < k):\n",
    "            return \"NO\"\n",
    "    return \"YES\"\n"
   ],
   "metadata": {
    "collapsed": false,
    "pycharm": {
     "name": "#%%\n"
    }
   }
  },
  {
   "cell_type": "code",
   "execution_count": null,
   "outputs": [],
   "source": [
    "if __name__ == '__main__':\n",
    "    fptr = open(os.environ['OUTPUT_PATH'], 'w')\n",
    "\n",
    "    q = int(input().strip())\n",
    "\n",
    "    for q_itr in range(q):\n",
    "        first_multiple_input = input().rstrip().split()\n",
    "\n",
    "        n = int(first_multiple_input[0])\n",
    "\n",
    "        k = int(first_multiple_input[1])\n",
    "\n",
    "        A = list(map(int, input().rstrip().split()))\n",
    "\n",
    "        B = list(map(int, input().rstrip().split()))\n",
    "\n",
    "        result = twoArrays(k, A, B)\n",
    "\n",
    "        fptr.write(result + '\\n')\n",
    "\n",
    "    fptr.close()\n"
   ],
   "metadata": {
    "collapsed": false,
    "pycharm": {
     "name": "#%%\n"
    }
   }
  }
 ],
 "metadata": {
  "kernelspec": {
   "display_name": "Python 3",
   "language": "python",
   "name": "python3"
  },
  "language_info": {
   "codemirror_mode": {
    "name": "ipython",
    "version": 2
   },
   "file_extension": ".py",
   "mimetype": "text/x-python",
   "name": "python",
   "nbconvert_exporter": "python",
   "pygments_lexer": "ipython2",
   "version": "2.7.6"
  }
 },
 "nbformat": 4,
 "nbformat_minor": 0
}