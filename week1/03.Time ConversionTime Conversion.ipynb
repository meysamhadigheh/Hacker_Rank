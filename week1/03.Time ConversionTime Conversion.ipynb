{
 "cells": [
  {
   "cell_type": "code",
   "execution_count": null,
   "metadata": {
    "collapsed": true
   },
   "outputs": [],
   "source": [
    "#!/bin/python3\n",
    "\n",
    "import math\n",
    "import os\n",
    "import random\n",
    "import re\n",
    "import sys\n"
   ]
  },
  {
   "cell_type": "code",
   "execution_count": null,
   "outputs": [],
   "source": [
    "#\n",
    "# Complete the 'timeConversion' function below.\n",
    "#\n",
    "# The function is expected to return a STRING.\n",
    "# The function accepts STRING s as parameter.\n",
    "#\n",
    "\n",
    "def timeConversion(s):\n",
    "    # Write your code here\n",
    "    AM_PM=s[-2:]\n",
    "    hour=int(s[:2])\n",
    "    minute=s[3:5]\n",
    "    second= s[6:8]\n",
    "\n",
    "    new_hour=0\n",
    "    if AM_PM=='PM':\n",
    "        if hour==12:\n",
    "            new_hour=12\n",
    "        else:\n",
    "            new_hour=int(hour+12)\n",
    "    else:\n",
    "        if hour==12:\n",
    "            new_hour=00\n",
    "        else:\n",
    "            new_hour =hour\n",
    "    new_hour=str(new_hour).zfill(2)\n",
    "    new_time=str(new_hour+\":\"+minute+\":\"+second)\n",
    "\n",
    "    return new_time"
   ],
   "metadata": {
    "collapsed": false,
    "pycharm": {
     "name": "#%%\n"
    }
   }
  },
  {
   "cell_type": "code",
   "execution_count": null,
   "outputs": [],
   "source": [
    "if __name__ == '__main__':\n",
    "    fptr = open(os.environ['OUTPUT_PATH'], 'w')\n",
    "\n",
    "    s = input()\n",
    "\n",
    "    result = timeConversion(s)\n",
    "\n",
    "    fptr.write(result + '\\n')\n",
    "\n",
    "    fptr.close()\n"
   ],
   "metadata": {
    "collapsed": false,
    "pycharm": {
     "name": "#%%\n"
    }
   }
  }
 ],
 "metadata": {
  "kernelspec": {
   "display_name": "Python 3",
   "language": "python",
   "name": "python3"
  },
  "language_info": {
   "codemirror_mode": {
    "name": "ipython",
    "version": 2
   },
   "file_extension": ".py",
   "mimetype": "text/x-python",
   "name": "python",
   "nbconvert_exporter": "python",
   "pygments_lexer": "ipython2",
   "version": "2.7.6"
  }
 },
 "nbformat": 4,
 "nbformat_minor": 0
}