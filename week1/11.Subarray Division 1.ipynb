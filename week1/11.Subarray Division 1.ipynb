{
 "cells": [
  {
   "cell_type": "code",
   "execution_count": null,
   "metadata": {
    "collapsed": true
   },
   "outputs": [],
   "source": [
    "#!/bin/python3\n",
    "\n",
    "import math\n",
    "import os\n",
    "import random\n",
    "import re\n",
    "import sys\n",
    "\n",
    "from itertools import combinations\n"
   ]
  },
  {
   "cell_type": "code",
   "execution_count": null,
   "outputs": [],
   "source": [
    "# Complete the 'birthday' function below.\n",
    "#\n",
    "# The function is expected to return an INTEGER.\n",
    "# The function accepts following parameters:\n",
    "#  1. INTEGER_ARRAY s\n",
    "#  2. INTEGER d\n",
    "#  3. INTEGER m\n",
    "#\n",
    "\n",
    "def birthday(s, d, m):\n",
    "    # Write your code here\n",
    "\n",
    "    # output would be a list with all possible form of integers with length         months\n",
    "    # perm_s = combinations(s,m)\n",
    "    # n=0\n",
    "    # list_n=[]\n",
    "    # for i in list(perm_s):\n",
    "\n",
    "    #     if sum(i)==d and i not in list_n:\n",
    "    #         list_n.append(i)\n",
    "    #         print(i)\n",
    "    #         n=n+1\n",
    "    # print(n)\n",
    "    # return n\n",
    "    nop = 0\n",
    "    for i in range(len(s) - (m-1)):\n",
    "        if sum(s[i:i+m]) == d:\n",
    "            nop += 1\n",
    "    return nop\n"
   ],
   "metadata": {
    "collapsed": false,
    "pycharm": {
     "name": "#%%\n"
    }
   }
  },
  {
   "cell_type": "code",
   "execution_count": null,
   "outputs": [],
   "source": [
    "if __name__ == '__main__':\n",
    "    fptr = open(os.environ['OUTPUT_PATH'], 'w')\n",
    "\n",
    "    n = int(input().strip())\n",
    "\n",
    "    s = list(map(int, input().rstrip().split()))\n",
    "\n",
    "    first_multiple_input = input().rstrip().split()\n",
    "\n",
    "    d = int(first_multiple_input[0])\n",
    "\n",
    "    m = int(first_multiple_input[1])\n",
    "\n",
    "    result = birthday(s, d, m)\n",
    "\n",
    "    fptr.write(str(result) + '\\n')\n",
    "\n",
    "    fptr.close()\n"
   ],
   "metadata": {
    "collapsed": false,
    "pycharm": {
     "name": "#%%\n"
    }
   }
  }
 ],
 "metadata": {
  "kernelspec": {
   "display_name": "Python 3",
   "language": "python",
   "name": "python3"
  },
  "language_info": {
   "codemirror_mode": {
    "name": "ipython",
    "version": 2
   },
   "file_extension": ".py",
   "mimetype": "text/x-python",
   "name": "python",
   "nbconvert_exporter": "python",
   "pygments_lexer": "ipython2",
   "version": "2.7.6"
  }
 },
 "nbformat": 4,
 "nbformat_minor": 0
}